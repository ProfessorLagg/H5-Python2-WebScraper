{
 "cells": [
  {
   "cell_type": "markdown",
   "id": "6c7b72c9",
   "metadata": {},
   "source": [
    "# Notes\n",
    "\n",
    "# Links\n",
    "(Extentions in Webdriver)[https://www.reddit.com/r/learnpython/comments/4zzn69/how_do_i_get_adblockplus_to_work_with_selenium/]"
   ]
  },
  {
   "cell_type": "code",
   "execution_count": 282,
   "id": "1ab4e02b",
   "metadata": {},
   "outputs": [],
   "source": [
    "# Imports\n",
    "from selenium import webdriver\n",
    "from selenium.webdriver.common.by import By\n",
    "from selenium.webdriver.common.keys import Keys\n",
    "import pandas as pd\n",
    "from pathlib import Path\n",
    "from tqdm import tqdm\n",
    "import time"
   ]
  },
  {
   "cell_type": "code",
   "execution_count": null,
   "id": "32e47823",
   "metadata": {},
   "outputs": [],
   "source": []
  },
  {
   "cell_type": "code",
   "execution_count": 283,
   "id": "267bdc3a",
   "metadata": {},
   "outputs": [],
   "source": [
    "# Settings\n",
    "root_url = r'https://www.wowhead.com/wotlk'\n",
    "output_dir = r'output'\n",
    "\n",
    "min_itemlvl = 0\n",
    "max_itemlvl = 284"
   ]
  },
  {
   "cell_type": "code",
   "execution_count": null,
   "id": "c4b6cb0d",
   "metadata": {},
   "outputs": [],
   "source": [
    "# Setup\n",
    "uBlock_Origin_Lite_extention_path = Path(\"uBlock_Origin_Lite/2025.612.1428_0\").absolute()\n",
    "\n",
    "Path(output_dir).mkdir(parents=True, exist_ok=True)\n",
    "\n",
    "driver_options = webdriver.chrome.options.Options()\n",
    "driver_options.page_load_strategy = 'normal'\n",
    "driver_options.add_argument(r'--headless')\n",
    "driver = webdriver.Chrome(options=driver_options)"
   ]
  },
  {
   "cell_type": "code",
   "execution_count": 285,
   "id": "06d0f8c5",
   "metadata": {},
   "outputs": [],
   "source": [
    "# Setup item scraping\n",
    "items_url = root_url + \"/items\"\n",
    "driver.get(items_url)"
   ]
  },
  {
   "cell_type": "code",
   "execution_count": 286,
   "id": "88bd2882",
   "metadata": {},
   "outputs": [],
   "source": [
    "# Scrape item quality and build itemlist links\n",
    "def process_item_quality_elem(elem):\n",
    "    _id = int(elem.get_attribute(\"value\"))\n",
    "    _name = elem.text\n",
    "    _color = elem.value_of_css_property(\"color\")\n",
    "    _color = _color[_color.index('(') + 1:]\n",
    "    _color = _color[:_color.index(')')]\n",
    "    _color_split = _color.split(', ')\n",
    "    _color = '#' + \"{:02x}\".format(int(_color_split[0])) + \"{:02x}\".format(\n",
    "        int(_color_split[1])) + \"{:02x}\".format(int(_color_split[2]))\n",
    "    return {\"id\": _id, \"name\": _name, \"color\": _color}\n",
    "\n",
    "\n",
    "item_quality_elems = driver.find_elements(\n",
    "    By.CSS_SELECTOR, '#filter-facet-quality > option')\n",
    "item_qualities = pd.DataFrame.from_records(\n",
    "    [process_item_quality_elem(e) for e in item_quality_elems],\n",
    "    index='id'\n",
    ")\n",
    "\n",
    "item_qualities.to_csv(output_dir + \"/item_qualities.csv\", sep=';')\n",
    "\n",
    "itemlist_urls = []\n",
    "for quality in item_qualities.itertuples():\n",
    "    for itemlvl in range(min_itemlvl, max_itemlvl):\n",
    "        itemlist_url = \"{u}/min-level:{l:n}/max-level:{l:n}/quality:{q:n}\".format(\n",
    "            u=items_url,\n",
    "            l=itemlvl,\n",
    "            q=quality.Index\n",
    "        )\n",
    "        itemlist_urls.append(itemlist_url)"
   ]
  },
  {
   "cell_type": "code",
   "execution_count": 287,
   "id": "1ebf023d",
   "metadata": {},
   "outputs": [
    {
     "name": "stderr",
     "output_type": "stream",
     "text": [
      "  1%|          | 19/2272 [00:25<51:14,  1.36s/it] \n"
     ]
    },
    {
     "ename": "NoSuchWindowException",
     "evalue": "Message: no such window: target window already closed\nfrom unknown error: web view not found\n  (Session info: chrome=137.0.7151.104)\nStacktrace:\n\tGetHandleVerifier [0x0x7ff7eae0fe75+79173]\n\tGetHandleVerifier [0x0x7ff7eae0fed0+79264]\n\t(No symbol) [0x0x7ff7eabc9e5a]\n\t(No symbol) [0x0x7ff7eaba20f1]\n\t(No symbol) [0x0x7ff7eac5017e]\n\t(No symbol) [0x0x7ff7eac70922]\n\t(No symbol) [0x0x7ff7eac48743]\n\t(No symbol) [0x0x7ff7eac114c1]\n\t(No symbol) [0x0x7ff7eac12253]\n\tGetHandleVerifier [0x0x7ff7eb0da2ad+3004797]\n\tGetHandleVerifier [0x0x7ff7eb0d46fd+2981325]\n\tGetHandleVerifier [0x0x7ff7eb0f3350+3107360]\n\tGetHandleVerifier [0x0x7ff7eae2a9fe+188622]\n\tGetHandleVerifier [0x0x7ff7eae3228f+219487]\n\tGetHandleVerifier [0x0x7ff7eae18dc4+115860]\n\tGetHandleVerifier [0x0x7ff7eae18f79+116297]\n\tGetHandleVerifier [0x0x7ff7eadff528+11256]\n\tBaseThreadInitThunk [0x0x7ffbce637374+20]\n\tRtlUserThreadStart [0x0x7ffbce7dcc91+33]\n",
     "output_type": "error",
     "traceback": [
      "\u001b[31m---------------------------------------------------------------------------\u001b[39m",
      "\u001b[31mNoSuchWindowException\u001b[39m                     Traceback (most recent call last)",
      "\u001b[36mCell\u001b[39m\u001b[36m \u001b[39m\u001b[32mIn[287]\u001b[39m\u001b[32m, line 19\u001b[39m\n\u001b[32m     17\u001b[39m item_url_frames = []\n\u001b[32m     18\u001b[39m \u001b[38;5;28;01mfor\u001b[39;00m u \u001b[38;5;129;01min\u001b[39;00m tqdm(itemlist_urls):\n\u001b[32m---> \u001b[39m\u001b[32m19\u001b[39m     item_url_frames.append(\u001b[43mprocess_itemlist\u001b[49m\u001b[43m(\u001b[49m\u001b[43mu\u001b[49m\u001b[43m)\u001b[49m)\n\u001b[32m     21\u001b[39m item_urls = pd.concat(item_url_frames).drop_duplicates().rename(\n\u001b[32m     22\u001b[39m     columns={\u001b[32m0\u001b[39m: \u001b[33m\"\u001b[39m\u001b[33murl\u001b[39m\u001b[33m\"\u001b[39m})\n\u001b[32m     23\u001b[39m item_urls.sort_values(by=[\u001b[33m'\u001b[39m\u001b[33murl\u001b[39m\u001b[33m'\u001b[39m], inplace=\u001b[38;5;28;01mTrue\u001b[39;00m, ignore_index=\u001b[38;5;28;01mTrue\u001b[39;00m)\n",
      "\u001b[36mCell\u001b[39m\u001b[36m \u001b[39m\u001b[32mIn[287]\u001b[39m\u001b[32m, line 9\u001b[39m, in \u001b[36mprocess_itemlist\u001b[39m\u001b[34m(url)\u001b[39m\n\u001b[32m      7\u001b[39m pre_url = \u001b[33m\"\u001b[39m\u001b[33m\"\u001b[39m\n\u001b[32m      8\u001b[39m \u001b[38;5;28;01mwhile\u001b[39;00m driver.current_url != pre_url:\n\u001b[32m----> \u001b[39m\u001b[32m9\u001b[39m     item_links = \u001b[43mdriver\u001b[49m\u001b[43m.\u001b[49m\u001b[43mexecute_script\u001b[49m\u001b[43m(\u001b[49m\u001b[43mget_item_links_js\u001b[49m\u001b[43m)\u001b[49m\n\u001b[32m     10\u001b[39m     frames.append(pd.DataFrame(item_links))\n\u001b[32m     11\u001b[39m     pre_url = driver.current_url\n",
      "\u001b[36mFile \u001b[39m\u001b[32mc:\\CodeProjects\\Skole\\H5-Python2\\WebScraper\\.venv\\Lib\\site-packages\\selenium\\webdriver\\remote\\webdriver.py:544\u001b[39m, in \u001b[36mWebDriver.execute_script\u001b[39m\u001b[34m(self, script, *args)\u001b[39m\n\u001b[32m    541\u001b[39m converted_args = \u001b[38;5;28mlist\u001b[39m(args)\n\u001b[32m    542\u001b[39m command = Command.W3C_EXECUTE_SCRIPT\n\u001b[32m--> \u001b[39m\u001b[32m544\u001b[39m \u001b[38;5;28;01mreturn\u001b[39;00m \u001b[38;5;28;43mself\u001b[39;49m\u001b[43m.\u001b[49m\u001b[43mexecute\u001b[49m\u001b[43m(\u001b[49m\u001b[43mcommand\u001b[49m\u001b[43m,\u001b[49m\u001b[43m \u001b[49m\u001b[43m{\u001b[49m\u001b[33;43m\"\u001b[39;49m\u001b[33;43mscript\u001b[39;49m\u001b[33;43m\"\u001b[39;49m\u001b[43m:\u001b[49m\u001b[43m \u001b[49m\u001b[43mscript\u001b[49m\u001b[43m,\u001b[49m\u001b[43m \u001b[49m\u001b[33;43m\"\u001b[39;49m\u001b[33;43margs\u001b[39;49m\u001b[33;43m\"\u001b[39;49m\u001b[43m:\u001b[49m\u001b[43m \u001b[49m\u001b[43mconverted_args\u001b[49m\u001b[43m}\u001b[49m\u001b[43m)\u001b[49m[\u001b[33m\"\u001b[39m\u001b[33mvalue\u001b[39m\u001b[33m\"\u001b[39m]\n",
      "\u001b[36mFile \u001b[39m\u001b[32mc:\\CodeProjects\\Skole\\H5-Python2\\WebScraper\\.venv\\Lib\\site-packages\\selenium\\webdriver\\remote\\webdriver.py:447\u001b[39m, in \u001b[36mWebDriver.execute\u001b[39m\u001b[34m(self, driver_command, params)\u001b[39m\n\u001b[32m    445\u001b[39m response = \u001b[38;5;28mself\u001b[39m.command_executor.execute(driver_command, params)\n\u001b[32m    446\u001b[39m \u001b[38;5;28;01mif\u001b[39;00m response:\n\u001b[32m--> \u001b[39m\u001b[32m447\u001b[39m     \u001b[38;5;28;43mself\u001b[39;49m\u001b[43m.\u001b[49m\u001b[43merror_handler\u001b[49m\u001b[43m.\u001b[49m\u001b[43mcheck_response\u001b[49m\u001b[43m(\u001b[49m\u001b[43mresponse\u001b[49m\u001b[43m)\u001b[49m\n\u001b[32m    448\u001b[39m     response[\u001b[33m\"\u001b[39m\u001b[33mvalue\u001b[39m\u001b[33m\"\u001b[39m] = \u001b[38;5;28mself\u001b[39m._unwrap_value(response.get(\u001b[33m\"\u001b[39m\u001b[33mvalue\u001b[39m\u001b[33m\"\u001b[39m, \u001b[38;5;28;01mNone\u001b[39;00m))\n\u001b[32m    449\u001b[39m     \u001b[38;5;28;01mreturn\u001b[39;00m response\n",
      "\u001b[36mFile \u001b[39m\u001b[32mc:\\CodeProjects\\Skole\\H5-Python2\\WebScraper\\.venv\\Lib\\site-packages\\selenium\\webdriver\\remote\\errorhandler.py:232\u001b[39m, in \u001b[36mErrorHandler.check_response\u001b[39m\u001b[34m(self, response)\u001b[39m\n\u001b[32m    230\u001b[39m         alert_text = value[\u001b[33m\"\u001b[39m\u001b[33malert\u001b[39m\u001b[33m\"\u001b[39m].get(\u001b[33m\"\u001b[39m\u001b[33mtext\u001b[39m\u001b[33m\"\u001b[39m)\n\u001b[32m    231\u001b[39m     \u001b[38;5;28;01mraise\u001b[39;00m exception_class(message, screen, stacktrace, alert_text)  \u001b[38;5;66;03m# type: ignore[call-arg]  # mypy is not smart enough here\u001b[39;00m\n\u001b[32m--> \u001b[39m\u001b[32m232\u001b[39m \u001b[38;5;28;01mraise\u001b[39;00m exception_class(message, screen, stacktrace)\n",
      "\u001b[31mNoSuchWindowException\u001b[39m: Message: no such window: target window already closed\nfrom unknown error: web view not found\n  (Session info: chrome=137.0.7151.104)\nStacktrace:\n\tGetHandleVerifier [0x0x7ff7eae0fe75+79173]\n\tGetHandleVerifier [0x0x7ff7eae0fed0+79264]\n\t(No symbol) [0x0x7ff7eabc9e5a]\n\t(No symbol) [0x0x7ff7eaba20f1]\n\t(No symbol) [0x0x7ff7eac5017e]\n\t(No symbol) [0x0x7ff7eac70922]\n\t(No symbol) [0x0x7ff7eac48743]\n\t(No symbol) [0x0x7ff7eac114c1]\n\t(No symbol) [0x0x7ff7eac12253]\n\tGetHandleVerifier [0x0x7ff7eb0da2ad+3004797]\n\tGetHandleVerifier [0x0x7ff7eb0d46fd+2981325]\n\tGetHandleVerifier [0x0x7ff7eb0f3350+3107360]\n\tGetHandleVerifier [0x0x7ff7eae2a9fe+188622]\n\tGetHandleVerifier [0x0x7ff7eae3228f+219487]\n\tGetHandleVerifier [0x0x7ff7eae18dc4+115860]\n\tGetHandleVerifier [0x0x7ff7eae18f79+116297]\n\tGetHandleVerifier [0x0x7ff7eadff528+11256]\n\tBaseThreadInitThunk [0x0x7ffbce637374+20]\n\tRtlUserThreadStart [0x0x7ffbce7dcc91+33]\n"
     ]
    }
   ],
   "source": [
    "# Scrape itemslists for item urls\n",
    "def process_itemlist(url):\n",
    "    click_next_btn_js = r'next_btn = Array.from(document.querySelectorAll(\"#tab-items > div.listview-band-top > div.listview-nav > a\")).find(x => x.textContent.toLowerCase().startsWith(\"next\")); if(next_btn !== undefined) next_btn.click()'\n",
    "    get_item_links_js = r'return Array.from(document.querySelectorAll(\"#tab-items > div.listview-scroller-horizontal > div > table > tbody > tr > td:nth-child(2) > div > a\")).map(x => x.href)'\n",
    "    driver.get(url)\n",
    "    frames = []\n",
    "    pre_url = \"\"\n",
    "    while driver.current_url != pre_url:\n",
    "        item_links = driver.execute_script(get_item_links_js)\n",
    "        frames.append(pd.DataFrame(item_links))\n",
    "        pre_url = driver.current_url\n",
    "        driver.execute_script(click_next_btn_js)\n",
    "\n",
    "    return pd.concat(frames)\n",
    "\n",
    "\n",
    "item_url_frames = []\n",
    "for u in tqdm(itemlist_urls):\n",
    "    item_url_frames.append(process_itemlist(u))\n",
    "\n",
    "item_urls = pd.concat(item_url_frames).drop_duplicates().rename(\n",
    "    columns={0: \"url\"})\n",
    "item_urls.sort_values(by=['url'], inplace=True, ignore_index=True)\n",
    "item_urls.to_csv(output_dir + \"/item_urls.csv\",\n",
    "                 sep=';', index=None, header=None)\n",
    "item_urls"
   ]
  },
  {
   "cell_type": "code",
   "execution_count": null,
   "id": "bf8804a8",
   "metadata": {},
   "outputs": [],
   "source": [
    "# shutdown\n",
    "driver.close()"
   ]
  }
 ],
 "metadata": {
  "kernelspec": {
   "display_name": ".venv",
   "language": "python",
   "name": "python3"
  },
  "language_info": {
   "codemirror_mode": {
    "name": "ipython",
    "version": 3
   },
   "file_extension": ".py",
   "mimetype": "text/x-python",
   "name": "python",
   "nbconvert_exporter": "python",
   "pygments_lexer": "ipython3",
   "version": "3.12.6"
  }
 },
 "nbformat": 4,
 "nbformat_minor": 5
}
