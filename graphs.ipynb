{
 "cells": [
  {
   "cell_type": "code",
   "execution_count": null,
   "id": "3c914c10",
   "metadata": {},
   "outputs": [],
   "source": [
    "import concurrent.futures\n",
    "import pandas as pd\n",
    "import matplotlib.pyplot as plt\n",
    "import matplotlib as mpl\n",
    "import seaborn as sns\n",
    "import duckdb\n",
    "from pathlib import Path\n",
    "import json\n",
    "\n",
    "# Settings\n",
    "output_dir = r'output'"
   ]
  },
  {
   "cell_type": "code",
   "execution_count": null,
   "id": "8d045f4c",
   "metadata": {},
   "outputs": [],
   "source": [
    "# Load\n",
    "items = pd.read_parquet(output_dir + \"/items.parquet\")\n",
    "# equip = pd.read_parquet(output_dir + \"/jsonequips_long.parquet\")\n",
    "item_qualities = pd.read_csv(output_dir + \"/item_qualities.csv\", sep=\";\")\n",
    "item_qualities_palette = sns.color_palette(item_qualities[\"color\"])"
   ]
  },
  {
   "cell_type": "code",
   "execution_count": null,
   "id": "836cd91c",
   "metadata": {},
   "outputs": [],
   "source": [
    "item_equip_cache = {}\n",
    "\n",
    "\n",
    "def load_item_equip(item_id):\n",
    "    filepath = Path(output_dir + f\"/jsonequip/{item_id}.equip.json\")\n",
    "    if filepath.exists():\n",
    "        item_equip_cache[item_id] = json.loads(filepath.read_text())\n",
    "        item_equip_cache[item_id].pop(\"appearances\", None)\n",
    "        return item_equip_cache[item_id]\n",
    "    else:\n",
    "        return None\n",
    "\n",
    "\n",
    "def get_item_eqiup(item_id):\n",
    "    cached_val = item_equip_cache.get(item_id, None)\n",
    "    if cached_val != None:\n",
    "        return cached_val\n",
    "    else:\n",
    "        return load_item_equip(item_id)"
   ]
  },
  {
   "cell_type": "code",
   "execution_count": null,
   "id": "01528d7b",
   "metadata": {},
   "outputs": [],
   "source": [
    "def get_weapon_dps(item_id):\n",
    "    item_eqiup = get_item_eqiup(item_id)\n",
    "    return item_eqiup.get('dps') or item_eqiup.get('mledps') or item_eqiup.get('rgddps') or pd.NA\n",
    "\n",
    "weapons = items[items['class_name'] == 'Weapons'][['subclass_name','name', 'level','quality_id','quality_name']].reset_index()\n",
    "weapons.rename(columns={'subclass_name':'subclass', 'quality_name':'quality', 'level':'item level', 'id':'item_id'}, inplace=True)\n",
    "\n",
    "weapons['quality_color'] = pd.Series([(lambda qid: item_qualities_palette[qid])(qid) for qid in weapons['quality_id']])\n",
    "weapons['dps'] = pd.Series([get_weapon_dps(item_id) for item_id in weapons['item_id']])\n",
    "weapons = weapons[weapons['dps'].notna()].sort_values('item_id', ascending=True).reset_index().drop(columns='index')\n",
    "weapons"
   ]
  },
  {
   "cell_type": "code",
   "execution_count": null,
   "id": "3f973c49",
   "metadata": {},
   "outputs": [],
   "source": [
    "sns.set_theme(rc={\"figure.figsize\": (16, 9)})\n",
    "\n",
    "\n",
    "def get_weapon_graph(subclass, quality_id=-1):\n",
    "    data_base = weapons[weapons[\"subclass\"] == subclass]\n",
    "    title = subclass\n",
    "    if quality_id >= 0:\n",
    "        data_base = data_base[data_base[\"quality_id\"] == quality_id]\n",
    "        title += f\" ({item_qualities['name'][quality_id]})\"\n",
    "    # return data_base\n",
    "    grp = data_base.groupby(\"item level\")\n",
    "    data = pd.DataFrame(\n",
    "        {\n",
    "            \"dps\": grp[\"dps\"].mean(),\n",
    "            \"quality_color\": grp[\"quality_color\"].first(),\n",
    "        }\n",
    "    ).sort_index().reset_index()\n",
    "    #return data\n",
    "    return sns.lineplot(\n",
    "        data=data, x=\"item level\", y=\"dps\", hue=\"quality_color\", legend=None#, sort=True\n",
    "    ).set_title(title)\n",
    "\n",
    "get_weapon_graph(\"Daggers\", 4)"
   ]
  },
  {
   "cell_type": "code",
   "execution_count": null,
   "id": "fac552b3",
   "metadata": {},
   "outputs": [],
   "source": [
    "data_base = get_weapon_graph(\"Daggers\", 4)\n",
    "pd.DataFrame(data_base.groupby(\"item level\")[[\"item level\", \"quality_color\", \"dps\"]])\n",
    "grp = data_base.groupby(\"item level\")\n",
    "pd.DataFrame({'quality_color': grp['quality_color'], 'mean dps': grp['dps'].mean()})"
   ]
  }
 ],
 "metadata": {
  "kernelspec": {
   "display_name": ".venv",
   "language": "python",
   "name": "python3"
  },
  "language_info": {
   "codemirror_mode": {
    "name": "ipython",
    "version": 3
   },
   "file_extension": ".py",
   "mimetype": "text/x-python",
   "name": "python",
   "nbconvert_exporter": "python",
   "pygments_lexer": "ipython3",
   "version": "3.13.5"
  }
 },
 "nbformat": 4,
 "nbformat_minor": 5
}
